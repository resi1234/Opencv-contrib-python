{
 "cells": [
  {
   "cell_type": "code",
   "execution_count": 1,
   "metadata": {},
   "outputs": [
    {
     "name": "stdout",
     "output_type": "stream",
     "text": [
      "4.1.0\n",
      "True\n"
     ]
    }
   ],
   "source": [
    "import cv2\n",
    "import os\n",
    "\n",
    "# Playing video from file:\n",
    "cap = cv2.VideoCapture(0)\n",
    "\n",
    "currentFrame = 0\n",
    "while currentFrame < 100 :\n",
    "    # Capture frame-by-frame\n",
    "    ret, frame = cap.read()\n",
    "\n",
    "    # Saves image of the current frame in jpg file\n",
    "    name = './data/frame' + str(currentFrame) + '.jpg'\n",
    "    print ('Creating...' + name)\n",
    "    cv2.imwrite(name, frame)\n",
    "\n",
    "    # To stop duplicate images\n",
    "    currentFrame += 1\n",
    "\n",
    "# When everything done, rel0ease the capture\n",
    "cap.release()\n",
    "cv2.destroyAllWindows()"
   ]
  },
  {
   "cell_type": "code",
   "execution_count": null,
   "metadata": {},
   "outputs": [],
   "source": []
  }
 ],
 "metadata": {
  "kernelspec": {
   "display_name": "Python 3",
   "language": "python",
   "name": "python3"
  },
  "language_info": {
   "codemirror_mode": {
    "name": "ipython",
    "version": 3
   },
   "file_extension": ".py",
   "mimetype": "text/x-python",
   "name": "python",
   "nbconvert_exporter": "python",
   "pygments_lexer": "ipython3",
   "version": "3.6.4"
  }
 },
 "nbformat": 4,
 "nbformat_minor": 2
}
