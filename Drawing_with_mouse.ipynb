{
 "cells": [
  {
   "cell_type": "code",
   "execution_count": 1,
   "metadata": {},
   "outputs": [],
   "source": [
    "import cv2\n",
    "import numpy as np\n",
    "\n",
    "def draw_circle(event,x,y,flags,param):\n",
    "    if event == cv2.EVENT_LBUTTONDOWN:\n",
    "        cv2.circle(img,center=(x,y),radius=90,color=(0,255,0),thickness=3)\n",
    "    elif event == cv2.EVENT_RBUTTONDOWN:\n",
    "        cv2.circle(img,center=(x,y),radius=90,color=(255,0,0),thickness=3)\n",
    "        \n",
    "cv2.namedWindow(winname='puppu')\n",
    "cv2.setMouseCallback('puppu',draw_circle)\n",
    "img=np.zeros(shape=(512,512,3),dtype=np.int8)\n",
    "\n",
    "while True:\n",
    "    cv2.imshow('puppu',img)\n",
    "    if cv2.waitKey(30) & 0xff == ord('q') :\n",
    "        break\n",
    "cv2.destroyAllWindows()   "
   ]
  },
  {
   "cell_type": "markdown",
   "metadata": {},
   "source": [
    "# Dragging The Mouse"
   ]
  },
  {
   "cell_type": "code",
   "execution_count": 2,
   "metadata": {},
   "outputs": [],
   "source": [
    "import cv2\n",
    "import numpy as np\n",
    "#variables\n",
    "#True while mouse button down and False while the mouse button up\n",
    "drawing=False\n",
    "#initial starting parameters for starting pos\n",
    "ix,iy=-1,-1\n",
    "#function\n",
    "def draw_rect(event,x,y,flags,params):\n",
    "    global drawing,ix,iy\n",
    "    if event == cv2.EVENT_LBUTTONDOWN:\n",
    "        drawing = True\n",
    "        ix,iy = x,y\n",
    "    elif event == cv2.EVENT_MOUSEMOVE:\n",
    "        if drawing == True:\n",
    "            cv2.rectangle(img,(ix,iy),(x,y),color=(0,255,0),thickness=-1)\n",
    "    elif event == cv2.EVENT_LBUTTONUP:\n",
    "        drawing = False\n",
    "        cv2.rectangle(img,(ix,iy),(x,y),color=(0,255,0),thickness=-1)\n",
    "cv2.namedWindow('puppu')\n",
    "cv2.setMouseCallback('puppu',draw_rect)\n",
    "img=np.zeros(shape=(512,512,3))\n",
    "while True:\n",
    "    cv2.imshow('puppu',img)\n",
    "    if cv2.waitKey(25) & 0xff == ord ('q'):\n",
    "        break\n",
    "cv2.destroyAllWindows()        \n"
   ]
  },
  {
   "cell_type": "code",
   "execution_count": null,
   "metadata": {},
   "outputs": [],
   "source": []
  }
 ],
 "metadata": {
  "kernelspec": {
   "display_name": "Python 3",
   "language": "python",
   "name": "python3"
  },
  "language_info": {
   "codemirror_mode": {
    "name": "ipython",
    "version": 3
   },
   "file_extension": ".py",
   "mimetype": "text/x-python",
   "name": "python",
   "nbconvert_exporter": "python",
   "pygments_lexer": "ipython3",
   "version": "3.6.4"
  }
 },
 "nbformat": 4,
 "nbformat_minor": 2
}
