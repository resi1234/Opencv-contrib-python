{
 "cells": [
  {
   "cell_type": "code",
   "execution_count": 1,
   "metadata": {},
   "outputs": [
    {
     "name": "stdout",
     "output_type": "stream",
     "text": [
      "4.1.0\n",
      "True\n"
     ]
    }
   ],
   "source": [
    "import cv2\n",
    "import numpy as np\n",
    "#checking version\n",
    "print(cv2.__version__)\n",
    "#starting Camera\n",
    "cap=cv2.VideoCapture(0)# here camera number first\n",
    "print(cap.isOpened())  # to check wheather camera is working or opening\n",
    "while cap.isOpened():\n",
    "    status,frame = cap.read()\n",
    "    status,frame1 = cap.read()\n",
    "    status,frame2 = cap.read()\n",
    "    status,frame3 = cap.read()\n",
    "    fig=np.concatenate((frame,frame1),axis=1)\n",
    "    fig1=np.concatenate((frame2,frame3),axis=1)\n",
    "    fig2=np.concatenate((fig,fig1),axis=0)\n",
    "    cv2.imshow('live',fig2)\n",
    "    if cv2.waitKey(10) & 0xff == ord('q'):\n",
    "        break\n",
    "cv2.destroyAllWindows()\n",
    "cap.release()"
   ]
  },
  {
   "cell_type": "code",
   "execution_count": null,
   "metadata": {},
   "outputs": [],
   "source": []
  }
 ],
 "metadata": {
  "kernelspec": {
   "display_name": "Python 3",
   "language": "python",
   "name": "python3"
  },
  "language_info": {
   "codemirror_mode": {
    "name": "ipython",
    "version": 3
   },
   "file_extension": ".py",
   "mimetype": "text/x-python",
   "name": "python",
   "nbconvert_exporter": "python",
   "pygments_lexer": "ipython3",
   "version": "3.6.4"
  }
 },
 "nbformat": 4,
 "nbformat_minor": 2
}
